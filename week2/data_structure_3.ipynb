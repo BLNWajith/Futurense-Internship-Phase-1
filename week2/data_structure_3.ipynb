{
 "cells": [
  {
   "cell_type": "markdown",
   "metadata": {},
   "source": [
    "# BLN Wajith Ali"
   ]
  },
  {
   "cell_type": "code",
   "execution_count": 1,
   "metadata": {},
   "outputs": [
    {
     "name": "stdout",
     "output_type": "stream",
     "text": [
      "Original Tuple: (4, 3, 2, 2, -1, 18)\n",
      "Product -  -864\n",
      "Original Tuple: (2, 4, 8, 8, 3, 2, 9)\n",
      "Product -  27648\n"
     ]
    }
   ],
   "source": [
    "\"\"\"Q1}Write a Python program to calculate the product, multiplying all the numbers in a given tuple.\n",
    "Original Tuple:\n",
    "(4, 3, 2, 2, -1, 18)\n",
    "Product - multiplying all the numbers of the said tuple: -864\n",
    "Original Tuple:\n",
    "(2, 4, 8, 8, 3, 2, 9)\n",
    "Product - multiplying all the numbers of the said tuple: 27648\"\"\"\n",
    "\n",
    "def prod_of_tuples(t):\n",
    "    result = 1\n",
    "    for num in t:\n",
    "        result *= num\n",
    "    return result\n",
    "tuples = [(4, 3, 2, 2, -1, 18), (2, 4, 8, 8, 3, 2, 9)]\n",
    "for t in tuples:\n",
    "    print(\"Original Tuple:\", t)\n",
    "    prod = prod_of_tuples(t)\n",
    "    print(\"Product - \", prod)"
   ]
  },
  {
   "cell_type": "code",
   "execution_count": 6,
   "metadata": {},
   "outputs": [
    {
     "name": "stdout",
     "output_type": "stream",
     "text": [
      "Original Tuple: ((10, 10, 10, 12), (30, 45, 56, 45), (81, 80, 39, 32), (1, 2, 3, 4))\n",
      "Average value of the numbers:  2.5\n",
      "Original Tuple: ((1, 1, -5), (30, -15, 56), (81, -60, -39), (-10, 2, 3))\n",
      "Average value of the numbers:  -1.6666666666666667\n"
     ]
    }
   ],
   "source": [
    "\"\"\"Q2}Write a Python program to calculate the average value of the numbers in a given tuple of tuples.\n",
    "Original Tuple:\n",
    "((10, 10, 10, 12), (30, 45, 56, 45), (81, 80, 39, 32), (1, 2, 3, 4))\n",
    "Average value of the numbers of the said tuple of tuples:\n",
    "[30.5, 34.25, 27.0, 23.25]\n",
    "Original Tuple:\n",
    "((1, 1, -5), (30, -15, 56), (81, -60, -39), (-10, 2, 3))\n",
    "Average value of the numbers of the said tuple of tuples: [25.5, -18.0, 3.75]\"\"\"\n",
    "\n",
    "def avg_of_tuples(tuples):\n",
    "    avgs = []\n",
    "    for t in tuples:\n",
    "        val_sum = sum(t)\n",
    "        avg = val_sum / len(t)\n",
    "        avgs.append(avgs)\n",
    "    return avg\n",
    "\n",
    "tuples = [((10, 10, 10, 12), (30, 45, 56, 45), (81, 80, 39, 32), (1, 2, 3, 4)), ((1, 1, -5), (30, -15, 56), (81, -60, -39), (-10, 2, 3))]\n",
    "\n",
    "for t in tuples:\n",
    "    print(\"Original Tuple:\", t)\n",
    "    avg = avg_of_tuples(t)\n",
    "    print(\"Average value of the numbers: \",avg)"
   ]
  }
 ],
 "metadata": {
  "kernelspec": {
   "display_name": "Python 3",
   "language": "python",
   "name": "python3"
  },
  "language_info": {
   "codemirror_mode": {
    "name": "ipython",
    "version": 3
   },
   "file_extension": ".py",
   "mimetype": "text/x-python",
   "name": "python",
   "nbconvert_exporter": "python",
   "pygments_lexer": "ipython3",
   "version": "3.10.6"
  }
 },
 "nbformat": 4,
 "nbformat_minor": 2
}
