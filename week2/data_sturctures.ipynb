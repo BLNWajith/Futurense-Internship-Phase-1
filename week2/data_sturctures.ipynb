{
 "cells": [
  {
   "cell_type": "markdown",
   "metadata": {},
   "source": [
    "# BLN Wajith Ali"
   ]
  },
  {
   "cell_type": "code",
   "execution_count": 4,
   "metadata": {},
   "outputs": [
    {
     "name": "stdout",
     "output_type": "stream",
     "text": [
      "(1, 2, 3, 4, 5, 6)\n"
     ]
    }
   ],
   "source": [
    "# Question 1: Write a python program to flatten tuple of list to tuple\n",
    "a = [(1,2),(3,4),(5,6)]\n",
    "b=[]\n",
    "for i in a:\n",
    "    for number in i:\n",
    "        b.append(number)\n",
    "\n",
    "c=tuple(b)\n",
    "print(c)"
   ]
  },
  {
   "cell_type": "code",
   "execution_count": 17,
   "metadata": {},
   "outputs": [
    {
     "name": "stdout",
     "output_type": "stream",
     "text": [
      "<class 'tuple'> (0, 1, 2, 3, 4, 5)\n",
      "<class 'set'> {0, 1, 2, 3, 4, 5}\n"
     ]
    }
   ],
   "source": [
    "# Question 2: python program to convert set into tuple and tuple into set\n",
    "z = set(map(int, input().split()))\n",
    "t = tuple(z)\n",
    "print(type(t),t)\n",
    "s = set(z)\n",
    "print(type(s),s)"
   ]
  },
  {
   "cell_type": "code",
   "execution_count": 16,
   "metadata": {},
   "outputs": [
    {
     "name": "stdout",
     "output_type": "stream",
     "text": [
      "[('Wajith', 20), ('Tharani', 19), ('Chaitanya', 21)]\n"
     ]
    }
   ],
   "source": [
    "# Question 3: convert list of dictionary to tuple list python\n",
    "dt1 = [{'name': 'Wajith', 'age': 20}, {'name': 'Tharani', 'age': 19}, {'name': 'Chaitanya', 'age': 21}]\n",
    "tp = [(d['name'], d['age']) for d in dt1]\n",
    "print(tp)"
   ]
  },
  {
   "cell_type": "code",
   "execution_count": 25,
   "metadata": {},
   "outputs": [
    {
     "name": "stdout",
     "output_type": "stream",
     "text": [
      "[(2, 'drum sticks'), (4, 'lady finger'), (1, 'onions'), (3, 'potato')]\n"
     ]
    }
   ],
   "source": [
    "# Question 4: python | sort tuple list by nth element of tuple\n",
    "grocery__list = [(1, 'onions'), (2, 'drum sticks'), (3, 'potato'), (4, 'lady finger')]\n",
    "n = 1 \n",
    "grocery__list.sort(key=lambda x: x[n])\n",
    "print(grocery__list)"
   ]
  },
  {
   "cell_type": "code",
   "execution_count": 22,
   "metadata": {},
   "outputs": [
    {
     "name": "stdout",
     "output_type": "stream",
     "text": [
      "[2] potato\n"
     ]
    }
   ],
   "source": [
    "# Question 5: python program to find tuple indices from other tuple list\n",
    "find = input('')\n",
    "# souce from blackbox \n",
    "indices = []\n",
    "for i, t in enumerate(grocery__list):\n",
    "    if t[1] == find:\n",
    "        indices.append(i)\n",
    "print(indices,find)"
   ]
  },
  {
   "cell_type": "code",
   "execution_count": null,
   "metadata": {},
   "outputs": [],
   "source": [
    "# Question 6: convert dictionary value to dictionary list python\n",
    "# source code from http://stackoverflow.com/ \n",
    "dictionary = {'a': [1, 2, 3], 'b': [4, 5, 6], 'c': [7, 8, 9]}\n",
    "dictionary_list = [{'key': k, 'value': v} for k, v in dictionary.items()]\n",
    "print(dictionary_list)"
   ]
  }
 ],
 "metadata": {
  "kernelspec": {
   "display_name": "Python 3",
   "language": "python",
   "name": "python3"
  },
  "language_info": {
   "codemirror_mode": {
    "name": "ipython",
    "version": 3
   },
   "file_extension": ".py",
   "mimetype": "text/x-python",
   "name": "python",
   "nbconvert_exporter": "python",
   "pygments_lexer": "ipython3",
   "version": "3.10.6"
  }
 },
 "nbformat": 4,
 "nbformat_minor": 2
}
