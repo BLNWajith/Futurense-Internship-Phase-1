{
 "cells": [
  {
   "cell_type": "markdown",
   "id": "962b841b",
   "metadata": {},
   "source": [
    "<div style=\"background-color: #4b3832; padding: 20px; border-radius: 10px; box-shadow: 5px 5px 10px #888888;\">\n",
    "  <h1 style=\"color: white; font-size: 30px; font-weight: bold; text-align: center; text-shadow: 2px 2px 4px #000000;\"> \"DATA ANALYSIS OF TOP COMPANIES\"\n",
    "</h1>\n",
    "</div>"
   ]
  },
  {
   "cell_type": "markdown",
   "id": "b9fe75db",
   "metadata": {},
   "source": [
    "<div style=\"background-color: #4b3832; padding: 20px; border-radius: 10px; box-shadow: 5px 5px 10px #888888;\">\n",
    "  <h1 style=\"color: white; font-size: 30px; font-weight: bold; text-align: center; text-shadow: 2px 2px 4px #000000;\"> *libraries used are *\n",
    "</h1>\n",
    "    \n",
    "</div>\n"
   ]
  },
  {
   "cell_type": "code",
   "execution_count": 1,
   "id": "523b9b93",
   "metadata": {},
   "outputs": [
    {
     "name": "stdout",
     "output_type": "stream",
     "text": [
      "WARNING:tensorflow:From c:\\Users\\Wajith Ali\\AppData\\Local\\Programs\\Python\\Python310\\lib\\site-packages\\keras\\src\\losses.py:2976: The name tf.losses.sparse_softmax_cross_entropy is deprecated. Please use tf.compat.v1.losses.sparse_softmax_cross_entropy instead.\n",
      "\n"
     ]
    }
   ],
   "source": [
    "import pandas as pd\n",
    "import numpy as np\n",
    "import matplotlib.pyplot as plt\n",
    "import seaborn as sns\n",
    "from wordcloud import WordCloud\n",
    "import sklearn\n",
    "import tensorflow as tf\n",
    "import plotly.express as px\n",
    "import dash\n",
    "import nltk\n",
    "import spacy"
   ]
  },
  {
   "cell_type": "code",
   "execution_count": 2,
   "id": "ae62e555",
   "metadata": {},
   "outputs": [],
   "source": [
    "# loading the dataset\n",
    "df = pd.read_csv(\"E:/Coding notebook/intern/week4/topcompanies(big)/companies.csv\")"
   ]
  },
  {
   "cell_type": "code",
   "execution_count": 3,
   "id": "4aebdb75",
   "metadata": {},
   "outputs": [
    {
     "name": "stdout",
     "output_type": "stream",
     "text": [
      "The DataSet has 10 columns with the headings of Index(['Company_name', 'Description', 'Ratings', 'Highly_rated_for',\n",
      "       'Critically_rated_for', 'Total_reviews', 'Avg_salary',\n",
      "       'Interviews_taken', 'Total_jobs_available', 'Total_benefits'],\n",
      "      dtype='object') and contains 10000 rows\n"
     ]
    }
   ],
   "source": [
    "#printing the data columns with the number of rows and\n",
    "print(f'The DataSet has {df.shape[1]} columns with the headings of {df.columns} and contains {df.shape[0]} rows')"
   ]
  },
  {
   "cell_type": "code",
   "execution_count": 4,
   "id": "a7c4eb77",
   "metadata": {},
   "outputs": [
    {
     "data": {
      "text/html": [
       "<div>\n",
       "<style scoped>\n",
       "    .dataframe tbody tr th:only-of-type {\n",
       "        vertical-align: middle;\n",
       "    }\n",
       "\n",
       "    .dataframe tbody tr th {\n",
       "        vertical-align: top;\n",
       "    }\n",
       "\n",
       "    .dataframe thead th {\n",
       "        text-align: right;\n",
       "    }\n",
       "</style>\n",
       "<table border=\"1\" class=\"dataframe\">\n",
       "  <thead>\n",
       "    <tr style=\"text-align: right;\">\n",
       "      <th></th>\n",
       "      <th>Company_name</th>\n",
       "      <th>Description</th>\n",
       "      <th>Ratings</th>\n",
       "      <th>Highly_rated_for</th>\n",
       "      <th>Critically_rated_for</th>\n",
       "      <th>Total_reviews</th>\n",
       "      <th>Avg_salary</th>\n",
       "      <th>Interviews_taken</th>\n",
       "      <th>Total_jobs_available</th>\n",
       "      <th>Total_benefits</th>\n",
       "    </tr>\n",
       "  </thead>\n",
       "  <tbody>\n",
       "    <tr>\n",
       "      <th>0</th>\n",
       "      <td>TCS</td>\n",
       "      <td>IT Services &amp; Consulting | 1 Lakh+ Employees |...</td>\n",
       "      <td>3.8</td>\n",
       "      <td>Job Security, Work Life Balance</td>\n",
       "      <td>Promotions / Appraisal, Salary &amp; Benefits</td>\n",
       "      <td>73.1k</td>\n",
       "      <td>856.9k</td>\n",
       "      <td>6.1k</td>\n",
       "      <td>847</td>\n",
       "      <td>11.5k</td>\n",
       "    </tr>\n",
       "    <tr>\n",
       "      <th>1</th>\n",
       "      <td>Accenture</td>\n",
       "      <td>IT Services &amp; Consulting | 1 Lakh+ Employees |...</td>\n",
       "      <td>4.0</td>\n",
       "      <td>Company Culture, Skill Development / Learning,...</td>\n",
       "      <td>NaN</td>\n",
       "      <td>46.4k</td>\n",
       "      <td>584.6k</td>\n",
       "      <td>4.3k</td>\n",
       "      <td>9.9k</td>\n",
       "      <td>7.1k</td>\n",
       "    </tr>\n",
       "    <tr>\n",
       "      <th>2</th>\n",
       "      <td>Cognizant</td>\n",
       "      <td>IT Services &amp; Consulting | 1 Lakh+ Employees |...</td>\n",
       "      <td>3.9</td>\n",
       "      <td>Skill Development / Learning</td>\n",
       "      <td>Promotions / Appraisal</td>\n",
       "      <td>41.7k</td>\n",
       "      <td>561.5k</td>\n",
       "      <td>3.6k</td>\n",
       "      <td>460</td>\n",
       "      <td>5.8k</td>\n",
       "    </tr>\n",
       "    <tr>\n",
       "      <th>3</th>\n",
       "      <td>Wipro</td>\n",
       "      <td>IT Services &amp; Consulting | 1 Lakh+ Employees |...</td>\n",
       "      <td>3.8</td>\n",
       "      <td>Job Security</td>\n",
       "      <td>Promotions / Appraisal, Salary &amp; Benefits</td>\n",
       "      <td>39.2k</td>\n",
       "      <td>427.4k</td>\n",
       "      <td>3.7k</td>\n",
       "      <td>405</td>\n",
       "      <td>5k</td>\n",
       "    </tr>\n",
       "    <tr>\n",
       "      <th>4</th>\n",
       "      <td>Capgemini</td>\n",
       "      <td>IT Services &amp; Consulting | 1 Lakh+ Employees |...</td>\n",
       "      <td>3.9</td>\n",
       "      <td>Job Security, Work Life Balance, Skill Develop...</td>\n",
       "      <td>Promotions / Appraisal, Salary &amp; Benefits</td>\n",
       "      <td>34k</td>\n",
       "      <td>414.4k</td>\n",
       "      <td>2.8k</td>\n",
       "      <td>719</td>\n",
       "      <td>4k</td>\n",
       "    </tr>\n",
       "    <tr>\n",
       "      <th>5</th>\n",
       "      <td>HDFC Bank</td>\n",
       "      <td>Banking | 1 Lakh+ Employees | Public | 30 year...</td>\n",
       "      <td>4.0</td>\n",
       "      <td>Job Security, Skill Development / Learning</td>\n",
       "      <td>Promotions / Appraisal</td>\n",
       "      <td>33.9k</td>\n",
       "      <td>132.3k</td>\n",
       "      <td>1.5k</td>\n",
       "      <td>335</td>\n",
       "      <td>3.2k</td>\n",
       "    </tr>\n",
       "    <tr>\n",
       "      <th>6</th>\n",
       "      <td>ICICI Bank</td>\n",
       "      <td>Banking | 1 Lakh+ Employees | Public | 30 year...</td>\n",
       "      <td>4.0</td>\n",
       "      <td>Job Security, Skill Development / Learning, Co...</td>\n",
       "      <td>NaN</td>\n",
       "      <td>33.5k</td>\n",
       "      <td>143.6k</td>\n",
       "      <td>1.9k</td>\n",
       "      <td>215</td>\n",
       "      <td>3.7k</td>\n",
       "    </tr>\n",
       "  </tbody>\n",
       "</table>\n",
       "</div>"
      ],
      "text/plain": [
       "  Company_name                                        Description  Ratings  \\\n",
       "0          TCS  IT Services & Consulting | 1 Lakh+ Employees |...      3.8   \n",
       "1    Accenture  IT Services & Consulting | 1 Lakh+ Employees |...      4.0   \n",
       "2    Cognizant  IT Services & Consulting | 1 Lakh+ Employees |...      3.9   \n",
       "3        Wipro  IT Services & Consulting | 1 Lakh+ Employees |...      3.8   \n",
       "4    Capgemini  IT Services & Consulting | 1 Lakh+ Employees |...      3.9   \n",
       "5    HDFC Bank  Banking | 1 Lakh+ Employees | Public | 30 year...      4.0   \n",
       "6   ICICI Bank  Banking | 1 Lakh+ Employees | Public | 30 year...      4.0   \n",
       "\n",
       "                                    Highly_rated_for  \\\n",
       "0                    Job Security, Work Life Balance   \n",
       "1  Company Culture, Skill Development / Learning,...   \n",
       "2                       Skill Development / Learning   \n",
       "3                                       Job Security   \n",
       "4  Job Security, Work Life Balance, Skill Develop...   \n",
       "5         Job Security, Skill Development / Learning   \n",
       "6  Job Security, Skill Development / Learning, Co...   \n",
       "\n",
       "                        Critically_rated_for Total_reviews Avg_salary  \\\n",
       "0  Promotions / Appraisal, Salary & Benefits         73.1k     856.9k   \n",
       "1                                        NaN         46.4k     584.6k   \n",
       "2                     Promotions / Appraisal         41.7k     561.5k   \n",
       "3  Promotions / Appraisal, Salary & Benefits         39.2k     427.4k   \n",
       "4  Promotions / Appraisal, Salary & Benefits           34k     414.4k   \n",
       "5                     Promotions / Appraisal         33.9k     132.3k   \n",
       "6                                        NaN         33.5k     143.6k   \n",
       "\n",
       "  Interviews_taken Total_jobs_available Total_benefits  \n",
       "0             6.1k                  847          11.5k  \n",
       "1             4.3k                 9.9k           7.1k  \n",
       "2             3.6k                  460           5.8k  \n",
       "3             3.7k                  405             5k  \n",
       "4             2.8k                  719             4k  \n",
       "5             1.5k                  335           3.2k  \n",
       "6             1.9k                  215           3.7k  "
      ]
     },
     "execution_count": 4,
     "metadata": {},
     "output_type": "execute_result"
    }
   ],
   "source": [
    "df.head(7)"
   ]
  },
  {
   "cell_type": "markdown",
   "id": "09972d4d",
   "metadata": {},
   "source": [
    "# Stage 1: Data Cleansing"
   ]
  },
  {
   "cell_type": "code",
   "execution_count": 5,
   "id": "fcefeb09",
   "metadata": {},
   "outputs": [],
   "source": [
    "# Chalking up missing values 'Ratings' with the median\n",
    "df['Ratings'].fillna(df['Ratings'].median(), inplace=True)"
   ]
  },
  {
   "cell_type": "code",
   "execution_count": 6,
   "id": "30c7cb5a",
   "metadata": {},
   "outputs": [],
   "source": [
    "# Chalking up missig 'critically_rated_for' with 'not available'\n",
    "df['Critically_rated_for'].fillna('Not Available', inplace=True)"
   ]
  },
  {
   "cell_type": "code",
   "execution_count": 7,
   "id": "bbb0c42d",
   "metadata": {},
   "outputs": [],
   "source": [
    "# Ensuring 'ratings' are not out of range 1-5 or else chalking up with NaN\n",
    "df['Ratings'] = df['Ratings'].apply(lambda x: np.nan if x < 1 or x > 5 else x)"
   ]
  },
  {
   "cell_type": "code",
   "execution_count": 8,
   "id": "cfcf13a7",
   "metadata": {},
   "outputs": [],
   "source": [
    "# Removing Duplicates\n",
    "df.drop_duplicates(inplace=True)"
   ]
  },
  {
   "cell_type": "code",
   "execution_count": 9,
   "id": "5e8a8534",
   "metadata": {},
   "outputs": [],
   "source": [
    "# Now converting 'k' values to thounds\n",
    "k_col = ['Total_reviews', 'Avg_salary', 'Interviews_taken', 'Total_jobs_available', 'Total_benefits']\n",
    "df[k_col] = df[k_col].replace({'k':''}, regex=True)\n",
    "df[k_col] = df[k_col].replace('--', np.nan)\n",
    "df[k_col] = df[k_col].apply(pd.to_numeric)\n",
    "df[k_col] *= 1000"
   ]
  },
  {
   "cell_type": "code",
   "execution_count": 10,
   "id": "0cf49729",
   "metadata": {},
   "outputs": [],
   "source": [
    "# Ensuring company names as str\n",
    "df['Company_name'] = df['Company_name'].str.title()"
   ]
  },
  {
   "cell_type": "code",
   "execution_count": 11,
   "id": "dcc3d4b6",
   "metadata": {},
   "outputs": [
    {
     "data": {
      "text/plain": [
       "(9359, 10)"
      ]
     },
     "execution_count": 11,
     "metadata": {},
     "output_type": "execute_result"
    }
   ],
   "source": [
    "df.shape"
   ]
  },
  {
   "cell_type": "code",
   "execution_count": 12,
   "id": "7de11c10",
   "metadata": {},
   "outputs": [
    {
     "name": "stdout",
     "output_type": "stream",
     "text": [
      "<class 'pandas.core.frame.DataFrame'>\n",
      "Int64Index: 9359 entries, 0 to 9999\n",
      "Data columns (total 10 columns):\n",
      " #   Column                Non-Null Count  Dtype  \n",
      "---  ------                --------------  -----  \n",
      " 0   Company_name          9359 non-null   object \n",
      " 1   Description           9359 non-null   object \n",
      " 2   Ratings               9359 non-null   float64\n",
      " 3   Highly_rated_for      9274 non-null   object \n",
      " 4   Critically_rated_for  9359 non-null   object \n",
      " 5   Total_reviews         9359 non-null   float64\n",
      " 6   Avg_salary            9357 non-null   float64\n",
      " 7   Interviews_taken      9168 non-null   float64\n",
      " 8   Total_jobs_available  5744 non-null   float64\n",
      " 9   Total_benefits        9283 non-null   float64\n",
      "dtypes: float64(6), object(4)\n",
      "memory usage: 804.3+ KB\n"
     ]
    }
   ],
   "source": [
    "df.info()"
   ]
  },
  {
   "cell_type": "code",
   "execution_count": null,
   "id": "56a18c97",
   "metadata": {},
   "outputs": [],
   "source": [
    "df.head(7)"
   ]
  },
  {
   "cell_type": "markdown",
   "id": "a397c45f",
   "metadata": {},
   "source": [
    "\n",
    "# Stage 2 : Decriptive Analysis"
   ]
  }
 ],
 "metadata": {
  "kernelspec": {
   "display_name": "Python 3 (ipykernel)",
   "language": "python",
   "name": "python3"
  },
  "language_info": {
   "codemirror_mode": {
    "name": "ipython",
    "version": 3
   },
   "file_extension": ".py",
   "mimetype": "text/x-python",
   "name": "python",
   "nbconvert_exporter": "python",
   "pygments_lexer": "ipython3",
   "version": "3.10.6"
  }
 },
 "nbformat": 4,
 "nbformat_minor": 5
}
