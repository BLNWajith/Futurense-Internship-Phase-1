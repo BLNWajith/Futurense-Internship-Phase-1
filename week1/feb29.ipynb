{
 "cells": [
  {
   "cell_type": "code",
   "execution_count": 2,
   "metadata": {},
   "outputs": [
    {
     "name": "stdout",
     "output_type": "stream",
     "text": [
      "10\n",
      "20\n",
      "Sum of 10 and 20 is 30\n"
     ]
    }
   ],
   "source": [
    "# 1) python program to add two numbers\n",
    "x = eval(input(\"Enter First Number:\\n\"))\n",
    "print(x)\n",
    "y = eval(input(\"Enter Second Number:\\n\"))\n",
    "print(y)\n",
    "Sum = sum([x,y])\n",
    "print(\"Sum of\", x, \"and\", y, \"is\", Sum)"
   ]
  },
  {
   "cell_type": "code",
   "execution_count": 4,
   "metadata": {},
   "outputs": [
    {
     "name": "stdout",
     "output_type": "stream",
     "text": [
      "10\n",
      "20\n",
      "The maximum of the two numbers is 20\n"
     ]
    }
   ],
   "source": [
    "# 2)maximum of two numbers in python\n",
    "num1 = eval(input(\"Enter the first number: \"))\n",
    "print(num1)\n",
    "num2 = eval(input(\"Enter the second number: \"))\n",
    "print(num2)\n",
    "maxVal = max(num1, num2)\n",
    "print(\"The maximum of the two numbers is\", maxVal)"
   ]
  },
  {
   "cell_type": "code",
   "execution_count": 10,
   "metadata": {},
   "outputs": [
    {
     "name": "stdout",
     "output_type": "stream",
     "text": [
      "6\n",
      "Factorial of the given number is:  720\n"
     ]
    }
   ],
   "source": [
    "import math\n",
    "#3) python program for factorial of a number \n",
    "n = eval(input (\"Enter a number: \"))\n",
    "print(n)\n",
    "print(\"Factorial of the given number is: \", math.factorial(n))"
   ]
  },
  {
   "cell_type": "code",
   "execution_count": 11,
   "metadata": {},
   "outputs": [
    {
     "name": "stdout",
     "output_type": "stream",
     "text": [
      "5000\n",
      "3\n",
      "2.5\n",
      "The Simple Interest is: 375.0\n"
     ]
    }
   ],
   "source": [
    "#4) pyhton program for simple interest\n",
    "def simple_interest(p, t, r):\n",
    "    si = (p * t * r) / 100\n",
    "    return si\n",
    "p = eval(input(\"Enter the principal amount: \"))\n",
    "print(p)\n",
    "t = eval(input(\"Enter the time period: \"))\n",
    "print(t)\n",
    "r = eval(input(\"Enter the rate of interest: \"))\n",
    "print(r)\n",
    "print('The Simple Interest is:', simple_interest(p, t, r))"
   ]
  },
  {
   "cell_type": "code",
   "execution_count": 13,
   "metadata": {},
   "outputs": [
    {
     "name": "stdout",
     "output_type": "stream",
     "text": [
      "50000\n",
      "2.5\n",
      "3\n",
      "4\n",
      "The compound interest is: 3881.63\n"
     ]
    }
   ],
   "source": [
    "#5) python progrom for compound interest\n",
    "p = eval(input(\"Enter the principl amount: \"))\n",
    "print(p)\n",
    "r = eval(input(\"Enter the annual insterest rate in %: \"))\n",
    "print(r)\n",
    "t = eval(input(\"Enter the time in years: \"))\n",
    "print(t)\n",
    "n = eval(input(\"Enter the number of times the interest is compounded per year: \"))\n",
    "print(n)\n",
    "compound_interest = p*((1+r/100/n)**(n*t))-p\n",
    "print(\"The compound interest is: {:.2f}\".format(compound_interest))"
   ]
  },
  {
   "cell_type": "code",
   "execution_count": 14,
   "metadata": {},
   "outputs": [
    {
     "name": "stdout",
     "output_type": "stream",
     "text": [
      "42 is not an Amstrong number\n"
     ]
    }
   ],
   "source": [
    "# 6) python program to check amstrong number\n",
    "def amstng(n):\n",
    "    numstr = str(n)\n",
    "    numdigi = len(numstr)\n",
    "    power = sum([int(digit)** numdigi for digit in numstr])\n",
    "    return power == n\n",
    "num = eval(input(\"Enter a number: \"))\n",
    "if  amstng(num):\n",
    "    print(num,\"is an Amstrong number\")\n",
    "else:\n",
    "    print(num, \"is not an Amstrong number\")"
   ]
  },
  {
   "cell_type": "code",
   "execution_count": 15,
   "metadata": {},
   "outputs": [
    {
     "name": "stdout",
     "output_type": "stream",
     "text": [
      "Area of the circle is:  50.26548245743669\n"
     ]
    }
   ],
   "source": [
    "# 7) python program for area of circle\n",
    "r = eval(input(\"Enter the radius: \"))\n",
    "a = math.pi * r * r\n",
    "print(\"Area of the circle is: \",a)"
   ]
  },
  {
   "cell_type": "code",
   "execution_count": 17,
   "metadata": {},
   "outputs": [
    {
     "name": "stdout",
     "output_type": "stream",
     "text": [
      "10\n",
      "50\n",
      "11\n",
      "13\n",
      "17\n",
      "19\n",
      "23\n",
      "29\n",
      "31\n",
      "37\n",
      "41\n",
      "43\n",
      "47\n"
     ]
    }
   ],
   "source": [
    "# 8) python program to print all prime numbers in an interval\n",
    "def prime(n):\n",
    "    if n < 2:\n",
    "        return False\n",
    "    for i in range(2, int(n**0.5) + 1):\n",
    "        if n % i == 0:\n",
    "            return False\n",
    "    return True\n",
    "def primes_in_interval(start, end):\n",
    "    for num in range(start, end + 1):\n",
    "        if prime(num):\n",
    "            print(num)\n",
    "start = eval(input(\"Enter the start of the interval: \"))\n",
    "print(start)\n",
    "end = eval(input(\"Enter the end of the interval: \"))\n",
    "print(end)\n",
    "primes_in_interval(start, end)"
   ]
  },
  {
   "cell_type": "code",
   "execution_count": 1,
   "metadata": {},
   "outputs": [
    {
     "name": "stdout",
     "output_type": "stream",
     "text": [
      "50 is not a prime number\n",
      "2 times 25 is 50\n"
     ]
    }
   ],
   "source": [
    "# 9) python program to check if a number is prime or not\n",
    "num = eval(input(\"Enter a number: \"))\n",
    "if num == 1:\n",
    "    print(num, \"is not a prime number\")\n",
    "elif num > 1:\n",
    "   for i in range(2,num):\n",
    "       if (num % i) == 0:\n",
    "           print(num,\"is not a prime number\")\n",
    "           print(i,\"times\",num//i,\"is\",num)\n",
    "           break\n",
    "   else:\n",
    "       print(num,\"is a prime number\")\n",
    "else:\n",
    "   print(num,\"is not a prime number\")"
   ]
  },
  {
   "cell_type": "code",
   "execution_count": 2,
   "metadata": {},
   "outputs": [
    {
     "name": "stdout",
     "output_type": "stream",
     "text": [
      "55\n"
     ]
    }
   ],
   "source": [
    "#10) python program for n-th Fibonacci number\n",
    "def fibo(n):\n",
    "    if n < 0:\n",
    "        print(\"input lesser than 0\")\n",
    "    elif n == 0:\n",
    "        return 0\n",
    "    elif n == 1:\n",
    "        return 1\n",
    "    else:\n",
    "        fib = [0, 1] + [0] * (n - 1)\n",
    "        for i in range(2, n + 1):\n",
    "            fib[i] = fib[i - 1] + fib[i - 2]\n",
    "        return fib[n]\n",
    "n = int(input(\"Enter a number: \"))\n",
    "print(fibo(n))"
   ]
  }
 ],
 "metadata": {
  "kernelspec": {
   "display_name": "Python 3",
   "language": "python",
   "name": "python3"
  },
  "language_info": {
   "codemirror_mode": {
    "name": "ipython",
    "version": 3
   },
   "file_extension": ".py",
   "mimetype": "text/x-python",
   "name": "python",
   "nbconvert_exporter": "python",
   "pygments_lexer": "ipython3",
   "version": "3.10.6"
  }
 },
 "nbformat": 4,
 "nbformat_minor": 2
}
